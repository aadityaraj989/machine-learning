{
 "cells": [
  {
   "cell_type": "code",
   "execution_count": 1,
   "id": "0ac2d2f9-c526-43fe-bc66-2cb4b0a5e0ba",
   "metadata": {},
   "outputs": [
    {
     "ename": "TypeError",
     "evalue": "ForestRegressor.predict() missing 1 required positional argument: 'X'",
     "output_type": "error",
     "traceback": [
      "\u001b[1;31m---------------------------------------------------------------------------\u001b[0m",
      "\u001b[1;31mTypeError\u001b[0m                                 Traceback (most recent call last)",
      "Cell \u001b[1;32mIn[1], line 7\u001b[0m\n\u001b[0;32m      3\u001b[0m model \u001b[38;5;241m=\u001b[39m load(\u001b[38;5;124m'\u001b[39m\u001b[38;5;124mdragon.joblib\u001b[39m\u001b[38;5;124m'\u001b[39m)\n\u001b[0;32m      4\u001b[0m \u001b[38;5;28minput\u001b[39m \u001b[38;5;241m=\u001b[39m np\u001b[38;5;241m.\u001b[39marray([[\u001b[38;5;241m-\u001b[39m\u001b[38;5;241m0.44241248\u001b[39m,  \u001b[38;5;241m3.18716752\u001b[39m, \u001b[38;5;241m-\u001b[39m\u001b[38;5;241m1.12581552\u001b[39m, \u001b[38;5;241m-\u001b[39m\u001b[38;5;241m0.27288841\u001b[39m, \u001b[38;5;241m-\u001b[39m\u001b[38;5;241m1.42282087\u001b[39m,\n\u001b[0;32m      5\u001b[0m        \u001b[38;5;241m-\u001b[39m\u001b[38;5;241m0.54646371\u001b[39m, \u001b[38;5;241m-\u001b[39m\u001b[38;5;241m1.7403247\u001b[39m ,  \u001b[38;5;241m2.56479414\u001b[39m, \u001b[38;5;241m-\u001b[39m\u001b[38;5;241m0.99480054\u001b[39m, \u001b[38;5;241m-\u001b[39m\u001b[38;5;241m0.57506151\u001b[39m,\n\u001b[0;32m      6\u001b[0m        \u001b[38;5;241m-\u001b[39m\u001b[38;5;241m0.98869255\u001b[39m,  \u001b[38;5;241m0.43852974\u001b[39m, \u001b[38;5;241m-\u001b[39m\u001b[38;5;241m0.49633492\u001b[39m]])\n\u001b[1;32m----> 7\u001b[0m \u001b[43mmodel\u001b[49m\u001b[38;5;241;43m.\u001b[39;49m\u001b[43mpredict\u001b[49m\u001b[43m(\u001b[49m\u001b[43m[\u001b[49m\u001b[38;5;28;43minput\u001b[39;49m\u001b[43m]\u001b[49m\u001b[43m)\u001b[49m\n",
      "\u001b[1;31mTypeError\u001b[0m: ForestRegressor.predict() missing 1 required positional argument: 'X'"
     ]
    }
   ],
   "source": [
    "from joblib import dump,load\n",
    "import numpy as np\n",
    "model = load('dragon.joblib')\n",
    "input = np.array([[-0.44241248,  3.18716752, -1.12581552, -0.27288841, -1.42282087,\n",
    "       -0.54646371, -1.7403247 ,  2.56479414, -0.99480054, -0.57506151,\n",
    "       -0.98869255,  0.43852974, -0.49633492]])\n",
    "model.predict([input])"
   ]
  },
  {
   "cell_type": "code",
   "execution_count": null,
   "id": "d3d38b77-b6ea-4325-b407-f081a4507dd5",
   "metadata": {},
   "outputs": [],
   "source": [
    "input = np.array([[-0.44241248,  3.18716752, -1.12581552, -0.27288841, -1.42282087,\n",
    "       -0.54646371, -1.7403247 ,  2.56479414, -0.99480054, -0.57506151,\n",
    "       -0.98869255,  0.43852974, -0.49633492]])\n",
    "model.predict([input])"
   ]
  },
  {
   "cell_type": "code",
   "execution_count": null,
   "id": "18985c6a-ea85-4781-a244-6dea1753a2b3",
   "metadata": {},
   "outputs": [],
   "source": []
  }
 ],
 "metadata": {
  "kernelspec": {
   "display_name": "Python 3 (ipykernel)",
   "language": "python",
   "name": "python3"
  },
  "language_info": {
   "codemirror_mode": {
    "name": "ipython",
    "version": 3
   },
   "file_extension": ".py",
   "mimetype": "text/x-python",
   "name": "python",
   "nbconvert_exporter": "python",
   "pygments_lexer": "ipython3",
   "version": "3.11.4"
  }
 },
 "nbformat": 4,
 "nbformat_minor": 5
}
